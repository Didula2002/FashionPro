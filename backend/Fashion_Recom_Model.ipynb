{
 "cells": [
  {
   "cell_type": "code",
   "execution_count": 54,
   "id": "95a599c2-126e-4914-9269-6ec7be75fee5",
   "metadata": {},
   "outputs": [],
   "source": [
    "#Importing Libraries"
   ]
  },
  {
   "cell_type": "code",
   "execution_count": 56,
   "id": "1f21a459-a091-4ccb-8410-2f86b8b53626",
   "metadata": {},
   "outputs": [],
   "source": [
    "import numpy as np\n",
    "import pickle as pkl\n",
    "import tensorflow as tf\n",
    "from tensorflow.keras.applications.resnet50 import ResNet50,preprocess_input\n",
    "from tensorflow.keras.preprocessing import image\n",
    "from tensorflow.keras.layers import GlobalMaxPool2D\n",
    "\n",
    "from sklearn.neighbors import NearestNeighbors\n",
    "import os\n",
    "from numpy.linalg import norm"
   ]
  },
  {
   "cell_type": "code",
   "execution_count": 58,
   "id": "90cca902-6180-4afd-b84f-d10d43ba6b98",
   "metadata": {},
   "outputs": [],
   "source": [
    "#Extract Filenames from Folder"
   ]
  },
  {
   "cell_type": "code",
   "execution_count": 60,
   "id": "3d71d2d4-f947-4ff9-9537-ede9d690ad85",
   "metadata": {},
   "outputs": [],
   "source": [
    "filenames = []\n",
    "for file in os.listdir('images'):\n",
    "    filenames.append(os.path.join('images',file))\n",
    "    "
   ]
  },
  {
   "cell_type": "code",
   "execution_count": null,
   "id": "bc62c11d-334a-45ba-a011-025a81e83074",
   "metadata": {},
   "outputs": [],
   "source": [
    "len(filenames)"
   ]
  },
  {
   "cell_type": "code",
   "execution_count": 64,
   "id": "890d6a07-36a6-46c7-824b-7951a7a2fc1d",
   "metadata": {},
   "outputs": [],
   "source": [
    "#Importing ResNet50 Model and Cofiguration"
   ]
  },
  {
   "cell_type": "code",
   "execution_count": null,
   "id": "eee2743f-32b2-4154-8a29-66a320527fe7",
   "metadata": {},
   "outputs": [],
   "source": [
    "model = ResNet50(weights='imagenet', include_top=False, input_shape=(224,224,3))\n",
    "model.trainable = False\n",
    "\n",
    "model = tf.keras.models.Sequential([model,\n",
    "                                   GlobalMaxPool2D()\n",
    "                                   ])\n",
    "model.summary()"
   ]
  },
  {
   "cell_type": "code",
   "execution_count": 68,
   "id": "4dc6c885-1f9f-4a72-9637-312f1fd28be8",
   "metadata": {},
   "outputs": [],
   "source": [
    "#Extracting Fetaures from Image"
   ]
  },
  {
   "cell_type": "code",
   "execution_count": null,
   "id": "d1f0a09d-d939-4157-bee7-78200d119733",
   "metadata": {},
   "outputs": [],
   "source": [
    "img = image.load_img('16871.jpg', target_size=(224,224))\n",
    "img_array = image.img_to_array(img)\n",
    "img_expand_dim = np.expand_dims(img_array, axis=0)\n",
    "img_preprocess = preprocess_input(img_expand_dim)\n",
    "result = model.predict(img_preprocess).flatten()\n",
    "norm_result = result/norm(result)\n",
    "norm_result"
   ]
  },
  {
   "cell_type": "code",
   "execution_count": 72,
   "id": "a4240bca-f785-47ae-8b61-0d7bfc87f7bd",
   "metadata": {},
   "outputs": [],
   "source": [
    "def extract_features_from_images(image_path, model):\n",
    "    img = image.load_img(image_path, target_size=(224,224))\n",
    "    img_array = image.img_to_array(img)\n",
    "    img_expand_dim = np.expand_dims(img_array, axis=0)\n",
    "    img_preprocess = preprocess_input(img_expand_dim)\n",
    "    result = model.predict(img_preprocess).flatten()\n",
    "    norm_result = result/norm(result)\n",
    "    return norm_result"
   ]
  },
  {
   "cell_type": "code",
   "execution_count": null,
   "id": "77399749-0c8e-4fac-a376-7ef9367399dc",
   "metadata": {},
   "outputs": [],
   "source": [
    "extract_features_from_images(filenames[0], model)"
   ]
  },
  {
   "cell_type": "code",
   "execution_count": null,
   "id": "7845eb38-a86a-49f3-99d4-61245bcfdff1",
   "metadata": {},
   "outputs": [],
   "source": [
    "image_features = []\n",
    "for file in filenames[0:44000]:\n",
    "    image_features.append(extract_features_from_images(file, model))\n",
    "image_features"
   ]
  },
  {
   "cell_type": "code",
   "execution_count": 78,
   "id": "243ca5d7-1086-48df-a9ab-8e271e4d2eef",
   "metadata": {},
   "outputs": [],
   "source": [
    "Image_features = pkl.dump(image_features, open('Images_features.pkl','wb'))"
   ]
  },
  {
   "cell_type": "code",
   "execution_count": 80,
   "id": "ab25bdd5-423d-4e2a-8b30-3ed52e5a6cb5",
   "metadata": {},
   "outputs": [],
   "source": [
    "filenames = pkl.dump(filenames, open('filenames.pkl','wb'))"
   ]
  },
  {
   "cell_type": "code",
   "execution_count": 82,
   "id": "09506759-ea0b-44b1-914b-e9b395972cda",
   "metadata": {},
   "outputs": [],
   "source": [
    "#Loading Pickle Files"
   ]
  },
  {
   "cell_type": "code",
   "execution_count": 84,
   "id": "e52f0652-9baa-48f4-a46a-0d19d78ede65",
   "metadata": {},
   "outputs": [],
   "source": [
    "Image_features = pkl.load(open('Images_features.pkl','rb'))"
   ]
  },
  {
   "cell_type": "code",
   "execution_count": 86,
   "id": "62671665-ec2d-4870-ac96-1120e1d71897",
   "metadata": {},
   "outputs": [],
   "source": [
    "filenames = pkl.load(open('filenames.pkl','rb'))"
   ]
  },
  {
   "cell_type": "code",
   "execution_count": null,
   "id": "86e4713a-eab1-4089-94c6-b70ee7b7551a",
   "metadata": {},
   "outputs": [],
   "source": [
    "np.array(Image_features).shape"
   ]
  },
  {
   "cell_type": "code",
   "execution_count": 88,
   "id": "61fed279-cd41-43be-8b62-6839b6925e9b",
   "metadata": {},
   "outputs": [],
   "source": [
    "#Finidng Simialar Images"
   ]
  },
  {
   "cell_type": "code",
   "execution_count": 92,
   "id": "f3f60058-06ef-47ee-8fa2-3e87d9c90d15",
   "metadata": {},
   "outputs": [],
   "source": [
    "neighbors = NearestNeighbors(n_neighbors=6, algorithm='brute', metric='euclidean')"
   ]
  },
  {
   "cell_type": "code",
   "execution_count": null,
   "id": "dbdc960b-7a99-4fcc-bded-45526750c188",
   "metadata": {},
   "outputs": [],
   "source": [
    "neighbors.fit(Image_features)"
   ]
  },
  {
   "cell_type": "code",
   "execution_count": null,
   "id": "fe025124-cd91-4e07-8603-4afcadf6e41e",
   "metadata": {},
   "outputs": [],
   "source": [
    "input_image = extract_features_from_images('16871.jpg',model)"
   ]
  },
  {
   "cell_type": "code",
   "execution_count": 95,
   "id": "cf56e13f-ec4a-400d-9c48-a720c39f6aeb",
   "metadata": {},
   "outputs": [],
   "source": [
    "distance,indices = neighbors.kneighbors([input_image])"
   ]
  },
  {
   "cell_type": "code",
   "execution_count": null,
   "id": "c7435305-19df-430b-a4a6-90bcc9f353a8",
   "metadata": {},
   "outputs": [],
   "source": [
    "indices[0]"
   ]
  },
  {
   "cell_type": "code",
   "execution_count": 101,
   "id": "4c1b210e-9719-4d64-8657-29990d67219a",
   "metadata": {},
   "outputs": [],
   "source": [
    "from IPython.display import Image"
   ]
  },
  {
   "cell_type": "code",
   "execution_count": null,
   "id": "6e248079-73d1-4830-a43a-f27a201fce33",
   "metadata": {},
   "outputs": [],
   "source": [
    "Image('16871.jpg')"
   ]
  },
  {
   "cell_type": "code",
   "execution_count": null,
   "id": "ee44a3b0-74cc-4548-bfd7-a80d3e0cb331",
   "metadata": {},
   "outputs": [],
   "source": [
    "Image(filenames[indices[0][1]])"
   ]
  },
  {
   "cell_type": "code",
   "execution_count": null,
   "id": "22c8a456-7426-4120-b5ca-0bd4af874896",
   "metadata": {},
   "outputs": [],
   "source": [
    "Image(filenames[indices[0][2]])"
   ]
  },
  {
   "cell_type": "code",
   "execution_count": null,
   "id": "307012a4-654d-4d14-a094-4d73f075d469",
   "metadata": {},
   "outputs": [],
   "source": [
    "Image(filenames[indices[0][3]])"
   ]
  },
  {
   "cell_type": "code",
   "execution_count": null,
   "id": "81028132-bb01-443a-b61c-d7645114de54",
   "metadata": {},
   "outputs": [],
   "source": [
    "Image(filenames[indices[0][4]])"
   ]
  },
  {
   "cell_type": "code",
   "execution_count": null,
   "id": "151dd938-f66a-4cd2-b8c4-91f60dc25084",
   "metadata": {},
   "outputs": [],
   "source": [
    "Image(filenames[indices[0][5]])"
   ]
  },
  {
   "cell_type": "code",
   "execution_count": null,
   "id": "859409dc-baae-40a8-be01-dc7125a657de",
   "metadata": {},
   "outputs": [],
   "source": []
  }
 ],
 "metadata": {
  "kernelspec": {
   "display_name": "Python [conda env:base] *",
   "language": "python",
   "name": "conda-base-py"
  },
  "language_info": {
   "codemirror_mode": {
    "name": "ipython",
    "version": 3
   },
   "file_extension": ".py",
   "mimetype": "text/x-python",
   "name": "python",
   "nbconvert_exporter": "python",
   "pygments_lexer": "ipython3",
   "version": "3.12.7"
  }
 },
 "nbformat": 4,
 "nbformat_minor": 5
}
